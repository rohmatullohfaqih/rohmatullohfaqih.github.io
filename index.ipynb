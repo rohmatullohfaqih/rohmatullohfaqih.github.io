{
 "cells": [
  {
   "cell_type": "code",
   "execution_count": 1,
   "id": "ea8fdd76-8961-4d19-ba47-0e8e1a9dee46",
   "metadata": {},
   "outputs": [
    {
     "name": "stdout",
     "output_type": "stream",
     "text": [
      "exercise 01\n",
      "hello World\n",
      "Hello Again\n",
      "I like typing this.\n",
      "Yay! Printing.\n",
      "I'd much rather you 'not'. \n",
      "I \"said\" do not touch this.\n",
      "\n",
      "Make your script print another line\n"
     ]
    }
   ],
   "source": [
    "print(\"exercise 01\")\n",
    "\n",
    "print(\"hello World\")\n",
    "print(\"Hello Again\")\n",
    "print(\"I like typing this.\")\n",
    "print('Yay! Printing.')\n",
    "print(\"I'd much rather you 'not'. \")\n",
    "print('I \"said\" do not touch this.')\n",
    "\n",
    "#drilling\n",
    "print(\"\")\n",
    "print(\"Make your script print another line\");"
   ]
  },
  {
   "cell_type": "code",
   "execution_count": 2,
   "id": "1ea77ec4-185c-4813-a355-0f0a34d72a34",
   "metadata": {},
   "outputs": [
    {
     "name": "stdout",
     "output_type": "stream",
     "text": [
      "I could have code like this.\n",
      "This will run.\n"
     ]
    }
   ],
   "source": [
    "print(\"exercise 02\")\n",
    "\n",
    "#a comment, this is so you can read your program later.\n",
    "#Anything after the # is ignored by python.\n",
    "\n",
    "print(\"I could have code like this.\") #and the comment after is ignored\n",
    "\n",
    "#You can also use a comment to \"disable\" or comment out code:\n",
    "#print(\"This won't run.\")\n",
    "\n",
    "print(\"This will run.\")"
   ]
  },
  {
   "cell_type": "code",
   "execution_count": 3,
   "id": "0a679377-dcde-4bda-a8be-2412989c4682",
   "metadata": {},
   "outputs": [
    {
     "name": "stdout",
     "output_type": "stream",
     "text": [
      "I will now count my chickens:\n",
      "Hens:  30.0\n",
      "Roosters:  97\n",
      "Now I will count the eggs: \n",
      "6.75\n",
      "Is it true that 3+2<5-7\n",
      "False\n",
      "What is 3+2?  5\n",
      "What is 5-7?  -2\n",
      "Oh, that's why it's False.\n",
      "How about some more.\n",
      "Is it greater?  True\n",
      "Is it greater or equal?  True\n",
      "Is it less or equal?  False\n"
     ]
    }
   ],
   "source": [
    "print(\"exercise 03\")\n",
    "\n",
    "print(\"I will now count my chickens:\")\n",
    "\n",
    "print(\"Hens: \", 25+30/6)\n",
    "print(\"Roosters: \", 100-25*3%4)\n",
    "\n",
    "print(\"Now I will count the eggs: \")\n",
    "\n",
    "print(3+2+1-5+4%2-1/4+6)\n",
    "\n",
    "print(\"Is it true that 3+2<5-7\")\n",
    "\n",
    "print(3+2<5-7)\n",
    "\n",
    "print(\"What is 3+2? \", 3+2)\n",
    "print(\"What is 5-7? \", 5-7)\n",
    "\n",
    "print(\"Oh, that's why it's False.\")\n",
    "\n",
    "print(\"How about some more.\")\n",
    "\n",
    "print(\"Is it greater? \", 5>-2)\n",
    "print(\"Is it greater or equal? \", 5>=-2)\n",
    "print(\"Is it less or equal? \", 5<=-2)"
   ]
  },
  {
   "cell_type": "code",
   "execution_count": 4,
   "id": "81037bb2-e34f-4a3c-8959-f70d2af0203d",
   "metadata": {},
   "outputs": [
    {
     "name": "stdout",
     "output_type": "stream",
     "text": [
      "There are 100 cars available.\n",
      "There are only 30 drivers available.\n",
      "There will be 70 empty cars today.\n",
      "We can transport 120 people today.\n",
      "We have 90 to carpool today.\n",
      "We need to put about 3.0 in each car.\n"
     ]
    }
   ],
   "source": [
    "print(\"exercise 04\")\n",
    "\n",
    "cars = 100\n",
    "space_in_a_car = 4\n",
    "drivers = 30\n",
    "passengers = 90\n",
    "cars_not_driven = cars - drivers\n",
    "cars_driven = drivers\n",
    "carpool_capacity = cars_driven * space_in_a_car\n",
    "average_passengers_per_car = passengers / cars_driven\n",
    "\n",
    "\n",
    "print(\"There are\", cars, \"cars available.\")\n",
    "print(\"There are only\", drivers, \"drivers available.\")\n",
    "print(\"There will be\", cars_not_driven, \"empty cars today.\")\n",
    "print(\"We can transport\", carpool_capacity, \"people today.\")\n",
    "print(\"We have\", passengers, \"to carpool today.\")\n",
    "print(\"We need to put about\", average_passengers_per_car, \"in each car.\")"
   ]
  },
  {
   "cell_type": "code",
   "execution_count": 1,
   "id": "720a96c4-0999-4baa-9142-5c175bf0409a",
   "metadata": {},
   "outputs": [
    {
     "name": "stdout",
     "output_type": "stream",
     "text": [
      "exercise 05\n",
      "Let's talk about Zed A. Shaw\n",
      "He's 74 inches tall.\n",
      "He's 180 pounds heavy.\n",
      "Actually, that's not too heavy.\n",
      "He's got Blue eyes and Brown hair.\n",
      "His teeth are usually White depending on the coffee.\n",
      "If I add 35, 74, and 180, I get 289\n",
      "Let's talk about Zed A. Shaw\n",
      "He's 187.96 centimeters tall.\n",
      "He's 81.63 pounds heavy.\n",
      "Actually, that's not too heavy.\n",
      "He's got blue eyes and brown hair.\n",
      "His teeth are usually white depending on the coffee.\n",
      "If I add 35, 187.96, and 81.63, I get 304.59000000000003\n"
     ]
    }
   ],
   "source": [
    "print(\"exercise 05\")\n",
    "\n",
    "my_name = 'Zed A. Shaw'\n",
    "my_age = 35 #not a lie\n",
    "my_height = 74 #inches\n",
    "my_weight = 180 #lbs\n",
    "my_eyes = 'Blue'\n",
    "my_teeth = \"White\"\n",
    "my_hair = \"Brown\"\n",
    "\n",
    "print(f\"Let's talk about {my_name}\")\n",
    "print(f\"He's {my_height} inches tall.\")\n",
    "print(f\"He's {my_weight} pounds heavy.\")\n",
    "print(\"Actually, that's not too heavy.\")\n",
    "print(f\"He's got {my_eyes} eyes and {my_hair} hair.\")\n",
    "print(f\"His teeth are usually {my_teeth} depending on the coffee.\")\n",
    "\n",
    "#this line is tricky, try to get it exactly right\n",
    "total = my_age + my_height + my_weight\n",
    "print(f\"If I add {my_age}, {my_height}, and {my_weight}, I get {total}\")\n",
    "\n",
    "#drill5\n",
    "name = 'Zed A. Shaw'\n",
    "age = 35 #not a lie\n",
    "height = 74 #inches \n",
    "weight = 180 #lbs\n",
    "eyes = 'blue'\n",
    "teeth = \"white\"\n",
    "hair = \"brown\"\n",
    "\n",
    "\n",
    "print(f\"Let's talk about {name}\")\n",
    "print(f\"He's {height * 2.54} centimeters tall.\")\n",
    "print(f\"He's {weight * 0.4535} pounds heavy.\")\n",
    "print(\"Actually, that's not too heavy.\")\n",
    "print(f\"He's got {eyes} eyes and {hair} hair.\")\n",
    "print(f\"His teeth are usually {teeth} depending on the coffee.\")\n",
    "\n",
    "#this line is tricky, try to get it exactly right\n",
    "total = age + height * 2.54 + weight * 0.4535\n",
    "print(f\"If I add {age}, {height * 2.54}, and {weight * 0.4535}, I get {total}\");"
   ]
  },
  {
   "cell_type": "code",
   "execution_count": 2,
   "id": "98833ea6-1778-4cee-8fe0-aef8c5663eba",
   "metadata": {},
   "outputs": [
    {
     "name": "stdout",
     "output_type": "stream",
     "text": [
      "exercise 06\n",
      "There are 10 types of people.\n",
      "Those who know binary and those who don't.\n",
      "I said: There are 10 types of people.\n",
      "I also said: 'Those who know binary and those who don't.'\n",
      "Isn't that joke so funny?! False\n",
      "This is the left side of...a string with a right side.\n"
     ]
    }
   ],
   "source": [
    "print(\"exercise 06\")\n",
    "\n",
    "types_of_people = 10\n",
    "x = f\"There are {types_of_people} types of people.\" #a string inside a string\n",
    "\n",
    "binary = \"binary\"\n",
    "do_not = \"don't\"\n",
    "y = f\"Those who know {binary} and those who {do_not}.\" #a string inside a string\n",
    "\n",
    "print(x)\n",
    "print(y)\n",
    "\n",
    "print(f\"I said: {x}\") #a string inside a string\n",
    "print(f\"I also said: '{y}'\") #a string inside a string\n",
    "\n",
    "hilarious = False\n",
    "joke_evaluation = \"Isn't that joke so funny?! {}\"\n",
    "\n",
    "print(joke_evaluation.format(hilarious)) #a string inside a string \n",
    "\n",
    "w = \"This is the left side of...\"\n",
    "e = \"a string with a right side.\"\n",
    "\n",
    "print(w+e)"
   ]
  },
  {
   "cell_type": "code",
   "execution_count": 3,
   "id": "28234948-d6b1-413a-b69d-d17c64634220",
   "metadata": {},
   "outputs": [
    {
     "name": "stdout",
     "output_type": "stream",
     "text": [
      "exercise 07\n",
      "Mary had a little lamb.\n",
      "Its fleece was white as snow.\n",
      "And everywhere that Mary went.\n",
      "..........\n",
      "Cheese Burger\n"
     ]
    }
   ],
   "source": [
    "print(\"exercise 07\")\n",
    "\n",
    "print(\"Mary had a little lamb.\")\n",
    "print(\"Its fleece was white as {}.\".format('snow'))\n",
    "print(\"And everywhere that Mary went.\")\n",
    "print(\".\"*10) #What'd that do?\n",
    "\n",
    "#making variable\n",
    "end1 = \"C\"\n",
    "end2 = \"h\"\n",
    "end3 = \"e\"\n",
    "end4 = \"e\"\n",
    "end5 = \"s\"\n",
    "end6 = \"e\"\n",
    "end7 = \"B\"\n",
    "end8 = \"u\"\n",
    "end9 = \"r\"\n",
    "end10 = \"g\"\n",
    "end11 = \"e\"\n",
    "end12 = \"r\"\n",
    "\n",
    "#watch end = ' ' at the end. try removing it to see what happens\n",
    "print(end1 + end2 + end3 + end4 + end5 + end6, end=' ')\n",
    "print(end7 + end8 + end9 + end10 + end11 + end12)"
   ]
  },
  {
   "cell_type": "code",
   "execution_count": 4,
   "id": "fb3fb176-a12a-4093-861c-068708fa0865",
   "metadata": {},
   "outputs": [
    {
     "name": "stdout",
     "output_type": "stream",
     "text": [
      "exercise 08\n",
      "1 2 3 4\n",
      "one two three four\n",
      "True False False True\n",
      "{} {} {} {} {} {} {} {} {} {} {} {} {} {} {} {}\n",
      "Try your Own text here Maybe a poem Or a song about fear\n"
     ]
    }
   ],
   "source": [
    "print(\"exercise 08\")\n",
    "\n",
    "formatter = \"{} {} {} {}\"\n",
    "\n",
    "print(formatter.format(1, 2, 3, 4))\n",
    "print(formatter.format(\"one\", \"two\", \"three\", \"four\"))\n",
    "print(formatter.format(True, False, False, True))\n",
    "print(formatter.format(formatter, formatter, formatter, formatter))\n",
    "print(formatter.format(\n",
    "    \"Try your\",\n",
    "    \"Own text here\",\n",
    "    \"Maybe a poem\",\n",
    "    \"Or a song about fear\"\n",
    "))"
   ]
  },
  {
   "cell_type": "code",
   "execution_count": 5,
   "id": "34b8eeca-f80e-4c21-a174-c7b368f28218",
   "metadata": {},
   "outputs": [
    {
     "name": "stdout",
     "output_type": "stream",
     "text": [
      "exercise 09\n",
      "Here are the days:  Mon Tue Wed Thu Fri Sat Sun\n",
      "Here are the months:  Jan\n",
      "Feb\n",
      "Mar\n",
      "Apr\n",
      "May\n",
      "Jun\n",
      "Jul\n",
      "Aug\n",
      "\n",
      "There's something going on here.\n",
      "With the three double-quotes.\n",
      "We'll be able to type as much as we like.\n",
      "Even 4 lines if we want, or 5, or 6.\n",
      "\n"
     ]
    }
   ],
   "source": [
    "print(\"exercise 09\")\n",
    "\n",
    "#Here's some new strange stuff, remember type it exactly\n",
    "\n",
    "days = \"Mon Tue Wed Thu Fri Sat Sun\"\n",
    "months = \"Jan\\nFeb\\nMar\\nApr\\nMay\\nJun\\nJul\\nAug\"\n",
    "\n",
    "print(\"Here are the days: \", days)\n",
    "print(\"Here are the months: \", months)\n",
    "\n",
    "print(\"\"\"\n",
    "There's something going on here.\n",
    "With the three double-quotes.\n",
    "We'll be able to type as much as we like.\n",
    "Even 4 lines if we want, or 5, or 6.\n",
    "\"\"\")"
   ]
  },
  {
   "cell_type": "code",
   "execution_count": 3,
   "id": "8e772232-4a3a-4f90-bced-d16d363c32c7",
   "metadata": {},
   "outputs": [
    {
     "name": "stdout",
     "output_type": "stream",
     "text": [
      "exercise 10\n",
      "\tI'm tabbed in.\n",
      "I'm split\n",
      "on a line.\n",
      "I'm\\ a \\ cat.\n",
      "\n",
      "I'll do a list:\n",
      "\t* Cat food\n",
      "\t*Fishies\n",
      "\t* Catnip\n",
      "\t* Grass\n",
      "\n"
     ]
    }
   ],
   "source": [
    "print(\"exercise 10\")\n",
    "\n",
    "tabby_cat = \"\\tI'm tabbed in.\"\n",
    "persian_cat = \"I'm split\\non a line.\"\n",
    "backslash_cat = \"I'm\\\\ a \\\\ cat.\"\n",
    "\n",
    "fat_cat = \"\"\"\n",
    "I'll do a list:\n",
    "\\t* Cat food\n",
    "\\t*Fishies\n",
    "\\t* Catnip\\n\\t* Grass\n",
    "\"\"\"\n",
    "\n",
    "print(tabby_cat)\n",
    "print(persian_cat)\n",
    "print(backslash_cat)\n",
    "print(fat_cat);"
   ]
  }
 ],
 "metadata": {
  "kernelspec": {
   "display_name": "Python 3 (ipykernel)",
   "language": "python",
   "name": "python3"
  },
  "language_info": {
   "codemirror_mode": {
    "name": "ipython",
    "version": 3
   },
   "file_extension": ".py",
   "mimetype": "text/x-python",
   "name": "python",
   "nbconvert_exporter": "python",
   "pygments_lexer": "ipython3",
   "version": "3.8.13"
  }
 },
 "nbformat": 4,
 "nbformat_minor": 5
}
